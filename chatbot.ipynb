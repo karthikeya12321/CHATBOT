{
  "nbformat": 4,
  "nbformat_minor": 0,
  "metadata": {
    "colab": {
      "provenance": []
    },
    "kernelspec": {
      "name": "python3",
      "display_name": "Python 3"
    },
    "language_info": {
      "name": "python"
    }
  },
  "cells": [
    {
      "cell_type": "code",
      "execution_count": null,
      "metadata": {
        "colab": {
          "base_uri": "https://localhost:8080/"
        },
        "id": "8T96BP0DL0Xe",
        "outputId": "bf226675-1e9c-4350-e5fe-64d191c88232"
      },
      "outputs": [
        {
          "output_type": "stream",
          "name": "stdout",
          "text": [
            "Chatbot: Hello! I am a simple chatbot. Type 'bye' to exit.\n",
            "You: helllo\n",
            "Chatbot: I'm sorry, I didn't understand that. Can you please rephrase?\n",
            "You: hello\n",
            "Chatbot: Hi there! How can I help you today?\n"
          ]
        }
      ],
      "source": [
        "import re\n",
        "\n",
        "def chatbot_response(user_input):\n",
        "    # Define patterns and responses\n",
        "    responses = [\n",
        "        (re.compile(r'hello', re.IGNORECASE), \"Hi there! How can I help you today?\"),\n",
        "        (re.compile(r'how are you', re.IGNORECASE), \"I'm just a bot, but I'm doing great! How about you?\"),\n",
        "        (re.compile(r'what is your name', re.IGNORECASE), \"I am a chatbot created by OpenAI. What's your name?\"),\n",
        "        (re.compile(r'bye|goodbye', re.IGNORECASE), \"Goodbye! Have a great day!\"),\n",
        "        (re.compile(r'thank you|thanks', re.IGNORECASE), \"You're welcome! If you have any other questions, feel free to ask.\"),\n",
        "        # Add more patterns and responses as needed\n",
        "    ]\n",
        "\n",
        "    # Check the user input against each pattern\n",
        "    for pattern, response in responses:\n",
        "        if pattern.search(user_input):\n",
        "            return response\n",
        "\n",
        "    # Default response if no patterns match\n",
        "    return \"I'm sorry, I didn't understand that. Can you please rephrase?\"\n",
        "\n",
        "# Main loop to interact with the chatbot\n",
        "def main():\n",
        "    print(\"Chatbot: Hello! I am a simple chatbot. Type 'bye' to exit.\")\n",
        "    while True:\n",
        "        user_input = input(\"You: \")\n",
        "        if re.search(r'bye|goodbye', user_input, re.IGNORECASE):\n",
        "            print(\"Chatbot: Goodbye! Have a great day!\")\n",
        "            break\n",
        "        response = chatbot_response(user_input)\n",
        "        print(f\"Chatbot: {response}\")\n",
        "\n",
        "# Run the chatbot\n",
        "if __name__ == \"__main__\":\n",
        "    main()\n"
      ]
    }
  ]
}